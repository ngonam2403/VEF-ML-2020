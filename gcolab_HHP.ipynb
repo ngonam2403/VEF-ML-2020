{
  "nbformat": 4,
  "nbformat_minor": 0,
  "metadata": {
    "colab": {
      "name": "gcolab: HHP.ipynb",
      "provenance": [],
      "collapsed_sections": [],
      "authorship_tag": "ABX9TyMW4iFSXusjWTCK8j5zQ8Q0",
      "include_colab_link": true
    },
    "kernelspec": {
      "name": "python3",
      "display_name": "Python 3"
    }
  },
  "cells": [
    {
      "cell_type": "markdown",
      "metadata": {
        "id": "view-in-github",
        "colab_type": "text"
      },
      "source": [
        "<a href=\"https://colab.research.google.com/github/ngonam2403/VEF-ML-2020/blob/main/gcolab_HHP.ipynb\" target=\"_parent\"><img src=\"https://colab.research.google.com/assets/colab-badge.svg\" alt=\"Open In Colab\"/></a>"
      ]
    },
    {
      "cell_type": "markdown",
      "metadata": {
        "id": "ba9lwLLaKDWY"
      },
      "source": [
        "# Mô tả bài toán & Mô tả dữ liệu"
      ]
    },
    {
      "cell_type": "code",
      "metadata": {
        "id": "wUiAa1Cgr3m1"
      },
      "source": [
        "import pandas as pd"
      ],
      "execution_count": 3,
      "outputs": []
    },
    {
      "cell_type": "code",
      "metadata": {
        "id": "e8Yay9cUyYTB"
      },
      "source": [
        "import matplotlib.pyplot as plt\n",
        "import numpy as np\n"
      ],
      "execution_count": 5,
      "outputs": []
    },
    {
      "cell_type": "code",
      "metadata": {
        "id": "qvziJcsO1N0-",
        "outputId": "257a105a-0ef4-491c-d1d1-61ec8822e74a",
        "colab": {
          "base_uri": "https://localhost:8080/",
          "height": 71
        }
      },
      "source": [
        "from statsmodels.graphics.mosaicplot import mosaic"
      ],
      "execution_count": 16,
      "outputs": [
        {
          "output_type": "stream",
          "text": [
            "/usr/local/lib/python3.6/dist-packages/statsmodels/tools/_testing.py:19: FutureWarning: pandas.util.testing is deprecated. Use the functions in the public API at pandas.testing instead.\n",
            "  import pandas.util.testing as tm\n"
          ],
          "name": "stderr"
        }
      ]
    },
    {
      "cell_type": "code",
      "metadata": {
        "id": "WqETolY7sBlX"
      },
      "source": [
        "#main\n",
        "link_DIHY3 = 'https://www.dropbox.com/s/ft7mxwfvgpa1byj/DaysInHospital_Y3.csv?dl=1' #https://mc.ai/how-to-upload-big-dataset-on-google-colab/\n",
        "link_Claim = 'https://www.dropbox.com/s/zx202lui7dg0x0d/Claims.csv?dl=1'\n",
        "link_Member = 'https://www.dropbox.com/s/rxp8lo69qw52767/Members.csv?dl=1'\n",
        "link_Target = 'https://www.dropbox.com/s/nrg7lbag41zlqwn/Target.csv?dl=1'\n",
        "\n",
        "#other\n",
        "link_DrugCount = 'https://www.dropbox.com/s/4c2rx63rlsq4zam/DrugCount.csv?dl=1'\n",
        "link_LabCount = 'https://www.dropbox.com/s/97z8pyafnpgg4fc/LabCount.csv?dl=1'"
      ],
      "execution_count": 1,
      "outputs": []
    },
    {
      "cell_type": "code",
      "metadata": {
        "id": "4hYrYAHxzlPg"
      },
      "source": [
        "#main\n",
        "link_DIHY2 = 'https://www.dropbox.com/s/doi3fre4121r966/DaysInHospital_Y2.csv?dl=1'"
      ],
      "execution_count": 10,
      "outputs": []
    },
    {
      "cell_type": "markdown",
      "metadata": {
        "id": "bK4EMt4COeJ8"
      },
      "source": [
        "Import Data"
      ]
    },
    {
      "cell_type": "code",
      "metadata": {
        "id": "5VIok16T2agY"
      },
      "source": [
        "df_DIYH3 = pd.read_csv(link_DIHY3)\n",
        "df_Claim = pd.read_csv(link_Claim)\n",
        "df_Member = pd.read_csv(link_Member)\n",
        "df_Target = pd.read_csv(link_Target\n",
        "\n",
        "df_DrugCount = pd.read_csv(link_DrugCount)\n",
        "df_LabCount = pd.read_csv(link_LabCount)"
      ],
      "execution_count": 4,
      "outputs": []
    },
    {
      "cell_type": "code",
      "metadata": {
        "id": "TOq3s0p2zrmo"
      },
      "source": [
        "df_DIYH2 = pd.read_csv(link_DIHY2)"
      ],
      "execution_count": 11,
      "outputs": []
    },
    {
      "cell_type": "code",
      "metadata": {
        "id": "iEnQkaBn2bHN",
        "outputId": "101784ff-5782-49a8-9853-c384e014ff02",
        "colab": {
          "base_uri": "https://localhost:8080/",
          "height": 204
        }
      },
      "source": [
        "#PHAN TICH: DAYINHOSPITAL\n",
        "\n",
        "df_DIYH3.head(5)"
      ],
      "execution_count": 6,
      "outputs": [
        {
          "output_type": "execute_result",
          "data": {
            "text/html": [
              "<div>\n",
              "<style scoped>\n",
              "    .dataframe tbody tr th:only-of-type {\n",
              "        vertical-align: middle;\n",
              "    }\n",
              "\n",
              "    .dataframe tbody tr th {\n",
              "        vertical-align: top;\n",
              "    }\n",
              "\n",
              "    .dataframe thead th {\n",
              "        text-align: right;\n",
              "    }\n",
              "</style>\n",
              "<table border=\"1\" class=\"dataframe\">\n",
              "  <thead>\n",
              "    <tr style=\"text-align: right;\">\n",
              "      <th></th>\n",
              "      <th>MemberID</th>\n",
              "      <th>ClaimsTruncated</th>\n",
              "      <th>DaysInHospital</th>\n",
              "    </tr>\n",
              "  </thead>\n",
              "  <tbody>\n",
              "    <tr>\n",
              "      <th>0</th>\n",
              "      <td>90963501</td>\n",
              "      <td>0</td>\n",
              "      <td>0</td>\n",
              "    </tr>\n",
              "    <tr>\n",
              "      <th>1</th>\n",
              "      <td>85160905</td>\n",
              "      <td>0</td>\n",
              "      <td>0</td>\n",
              "    </tr>\n",
              "    <tr>\n",
              "      <th>2</th>\n",
              "      <td>45496648</td>\n",
              "      <td>0</td>\n",
              "      <td>0</td>\n",
              "    </tr>\n",
              "    <tr>\n",
              "      <th>3</th>\n",
              "      <td>45162557</td>\n",
              "      <td>0</td>\n",
              "      <td>0</td>\n",
              "    </tr>\n",
              "    <tr>\n",
              "      <th>4</th>\n",
              "      <td>68793937</td>\n",
              "      <td>0</td>\n",
              "      <td>0</td>\n",
              "    </tr>\n",
              "  </tbody>\n",
              "</table>\n",
              "</div>"
            ],
            "text/plain": [
              "   MemberID  ClaimsTruncated  DaysInHospital\n",
              "0  90963501                0               0\n",
              "1  85160905                0               0\n",
              "2  45496648                0               0\n",
              "3  45162557                0               0\n",
              "4  68793937                0               0"
            ]
          },
          "metadata": {
            "tags": []
          },
          "execution_count": 6
        }
      ]
    },
    {
      "cell_type": "code",
      "metadata": {
        "id": "Ano1K0VWynr3",
        "outputId": "766dee24-1144-44bf-b8fb-ee74b4899f36",
        "colab": {
          "base_uri": "https://localhost:8080/",
          "height": 187
        }
      },
      "source": [
        "df_DIYH3.info()"
      ],
      "execution_count": 7,
      "outputs": [
        {
          "output_type": "stream",
          "text": [
            "<class 'pandas.core.frame.DataFrame'>\n",
            "RangeIndex: 71435 entries, 0 to 71434\n",
            "Data columns (total 3 columns):\n",
            " #   Column           Non-Null Count  Dtype\n",
            "---  ------           --------------  -----\n",
            " 0   MemberID         71435 non-null  int64\n",
            " 1   ClaimsTruncated  71435 non-null  int64\n",
            " 2   DaysInHospital   71435 non-null  int64\n",
            "dtypes: int64(3)\n",
            "memory usage: 1.6 MB\n"
          ],
          "name": "stdout"
        }
      ]
    },
    {
      "cell_type": "code",
      "metadata": {
        "id": "kuVOPi4Iy4N6",
        "outputId": "07fc6faa-77e8-4f07-c753-5f870ae3067d",
        "colab": {
          "base_uri": "https://localhost:8080/",
          "height": 68
        }
      },
      "source": [
        "df_DIYH3['ClaimsTruncated'].value_counts()"
      ],
      "execution_count": 8,
      "outputs": [
        {
          "output_type": "execute_result",
          "data": {
            "text/plain": [
              "0    67391\n",
              "1     4044\n",
              "Name: ClaimsTruncated, dtype: int64"
            ]
          },
          "metadata": {
            "tags": []
          },
          "execution_count": 8
        }
      ]
    },
    {
      "cell_type": "code",
      "metadata": {
        "id": "B4jXtgOG0VyM",
        "outputId": "a0f54528-846e-4fba-8525-33e89d657d2e",
        "colab": {
          "base_uri": "https://localhost:8080/",
          "height": 68
        }
      },
      "source": [
        "df_DIYH2['ClaimsTruncated'].value_counts()"
      ],
      "execution_count": 15,
      "outputs": [
        {
          "output_type": "execute_result",
          "data": {
            "text/plain": [
              "0    72067\n",
              "1     3971\n",
              "Name: ClaimsTruncated, dtype: int64"
            ]
          },
          "metadata": {
            "tags": []
          },
          "execution_count": 15
        }
      ]
    },
    {
      "cell_type": "code",
      "metadata": {
        "id": "koqCoXgrzBRA",
        "outputId": "cd83ef36-8302-4007-c23d-202b2b0c3e99",
        "colab": {
          "base_uri": "https://localhost:8080/",
          "height": 306
        }
      },
      "source": [
        "df_DIYH3['DaysInHospital'].value_counts().sort_index()"
      ],
      "execution_count": 14,
      "outputs": [
        {
          "output_type": "execute_result",
          "data": {
            "text/plain": [
              "0     60706\n",
              "1      4464\n",
              "2      2182\n",
              "3      1429\n",
              "4       842\n",
              "5       528\n",
              "6       287\n",
              "7       218\n",
              "8       143\n",
              "9       115\n",
              "10      103\n",
              "11       65\n",
              "12       62\n",
              "13       50\n",
              "14       23\n",
              "15      218\n",
              "Name: DaysInHospital, dtype: int64"
            ]
          },
          "metadata": {
            "tags": []
          },
          "execution_count": 14
        }
      ]
    },
    {
      "cell_type": "code",
      "metadata": {
        "id": "11YOlVNVz34z",
        "outputId": "fa185bd5-3700-482b-e349-24be54918b94",
        "colab": {
          "base_uri": "https://localhost:8080/",
          "height": 306
        }
      },
      "source": [
        "df_DIYH2['DaysInHospital'].value_counts().sort_index()"
      ],
      "execution_count": 13,
      "outputs": [
        {
          "output_type": "execute_result",
          "data": {
            "text/plain": [
              "0     64269\n",
              "1      4835\n",
              "2      2366\n",
              "3      1453\n",
              "4       977\n",
              "5       565\n",
              "6       373\n",
              "7       256\n",
              "8       173\n",
              "9       148\n",
              "10      106\n",
              "11       80\n",
              "12       73\n",
              "13       61\n",
              "14       42\n",
              "15      261\n",
              "Name: DaysInHospital, dtype: int64"
            ]
          },
          "metadata": {
            "tags": []
          },
          "execution_count": 13
        }
      ]
    },
    {
      "cell_type": "code",
      "metadata": {
        "id": "zwPmBUtx0Z02",
        "outputId": "f42f49f6-3db9-41bd-a682-12dbf0756369",
        "colab": {
          "base_uri": "https://localhost:8080/",
          "height": 526
        }
      },
      "source": [
        "props = {}\n",
        "# Dictionary introduced here\n",
        "col_dic = {'short': 'purple', 'medium': 'blue', 'long': 'yellow'}\n",
        "for x in ['small', 'large']:\n",
        "    for y, col in col_dic.items():\n",
        "        props[(x, y)] ={'color': col}\n",
        "\n",
        "mosaic(\n",
        "    df_DIYH3,\n",
        "    ['ClaimsTruncated','DaysInHospital'],\n",
        "    properties = props\n",
        "    )\n",
        "# plt.rcParams[\"figure.figsize\"] = [16,9]\n",
        "plt.show()"
      ],
      "execution_count": 29,
      "outputs": [
        {
          "output_type": "display_data",
          "data": {
            "image/png": "[encoded data removed]",
            "text/plain": [
              "<Figure size 1152x648 with 3 Axes>"
            ]
          },
          "metadata": {
            "tags": [],
            "needs_background": "light"
          }
        }
      ]
    },
    {
      "cell_type": "code",
      "metadata": {
        "id": "5BAk2i-q4rqc",
        "outputId": "4c7722dd-75bb-40cb-a018-395cbed7563b",
        "colab": {
          "base_uri": "https://localhost:8080/",
          "height": 34
        }
      },
      "source": [
        "df_vc = df_DIYH3['MemberID'].value_counts()\n",
        "# df_vc = pd.DataFrame(df_vc, columns = ['CountRecord','Na'])\n",
        "# df_vc.sort_values(by = 'CountRecord', ascending=False)\n",
        "df_vc.iloc[-1]"
      ],
      "execution_count": 46,
      "outputs": [
        {
          "output_type": "execute_result",
          "data": {
            "text/plain": [
              "1"
            ]
          },
          "metadata": {
            "tags": []
          },
          "execution_count": 46
        }
      ]
    },
    {
      "cell_type": "markdown",
      "metadata": {
        "id": "5cvCZvOaiWEi"
      },
      "source": [
        "==> kế hoạch phân tích thêm DIHY3?"
      ]
    },
    {
      "cell_type": "markdown",
      "metadata": {
        "id": "xTnKyQwloSfK"
      },
      "source": [
        "data type: numeric, categorical (nomial / ordinal)"
      ]
    },
    {
      "cell_type": "markdown",
      "metadata": {
        "id": "PAv9IJu4OYgn"
      },
      "source": [
        "\n",
        "\n",
        "*   Phân bố của DaysInHospital: select DaysInHospital, count(1), count(distinct MemberID)\n",
        "*   Phân bố của ClaimsTruncated\n",
        "\n"
      ]
    },
    {
      "cell_type": "code",
      "metadata": {
        "id": "ry6kIcBodu6s",
        "outputId": "3f3af557-88ad-4c08-8ed5-70873ac2e15a",
        "colab": {
          "base_uri": "https://localhost:8080/",
          "height": 309
        }
      },
      "source": [
        "#PHAN TICH: CLAIM\n",
        "\n",
        "df_Claim.head(5)"
      ],
      "execution_count": 5,
      "outputs": [
        {
          "output_type": "execute_result",
          "data": {
            "text/html": [
              "<div>\n",
              "<style scoped>\n",
              "    .dataframe tbody tr th:only-of-type {\n",
              "        vertical-align: middle;\n",
              "    }\n",
              "\n",
              "    .dataframe tbody tr th {\n",
              "        vertical-align: top;\n",
              "    }\n",
              "\n",
              "    .dataframe thead th {\n",
              "        text-align: right;\n",
              "    }\n",
              "</style>\n",
              "<table border=\"1\" class=\"dataframe\">\n",
              "  <thead>\n",
              "    <tr style=\"text-align: right;\">\n",
              "      <th></th>\n",
              "      <th>MemberID</th>\n",
              "      <th>ProviderID</th>\n",
              "      <th>Vendor</th>\n",
              "      <th>PCP</th>\n",
              "      <th>Year</th>\n",
              "      <th>Specialty</th>\n",
              "      <th>PlaceSvc</th>\n",
              "      <th>PayDelay</th>\n",
              "      <th>LengthOfStay</th>\n",
              "      <th>DSFS</th>\n",
              "      <th>PrimaryConditionGroup</th>\n",
              "      <th>CharlsonIndex</th>\n",
              "      <th>ProcedureGroup</th>\n",
              "      <th>SupLOS</th>\n",
              "    </tr>\n",
              "  </thead>\n",
              "  <tbody>\n",
              "    <tr>\n",
              "      <th>0</th>\n",
              "      <td>42286978</td>\n",
              "      <td>8013252.0</td>\n",
              "      <td>172193.0</td>\n",
              "      <td>37796.0</td>\n",
              "      <td>Y1</td>\n",
              "      <td>Surgery</td>\n",
              "      <td>Office</td>\n",
              "      <td>28</td>\n",
              "      <td>NaN</td>\n",
              "      <td>8- 9 months</td>\n",
              "      <td>NEUMENT</td>\n",
              "      <td>0</td>\n",
              "      <td>MED</td>\n",
              "      <td>0</td>\n",
              "    </tr>\n",
              "    <tr>\n",
              "      <th>1</th>\n",
              "      <td>97903248</td>\n",
              "      <td>3316066.0</td>\n",
              "      <td>726296.0</td>\n",
              "      <td>5300.0</td>\n",
              "      <td>Y3</td>\n",
              "      <td>Internal</td>\n",
              "      <td>Office</td>\n",
              "      <td>50</td>\n",
              "      <td>NaN</td>\n",
              "      <td>7- 8 months</td>\n",
              "      <td>NEUMENT</td>\n",
              "      <td>1-2</td>\n",
              "      <td>EM</td>\n",
              "      <td>0</td>\n",
              "    </tr>\n",
              "    <tr>\n",
              "      <th>2</th>\n",
              "      <td>2759427</td>\n",
              "      <td>2997752.0</td>\n",
              "      <td>140343.0</td>\n",
              "      <td>91972.0</td>\n",
              "      <td>Y3</td>\n",
              "      <td>Internal</td>\n",
              "      <td>Office</td>\n",
              "      <td>14</td>\n",
              "      <td>NaN</td>\n",
              "      <td>0- 1 month</td>\n",
              "      <td>METAB3</td>\n",
              "      <td>0</td>\n",
              "      <td>EM</td>\n",
              "      <td>0</td>\n",
              "    </tr>\n",
              "    <tr>\n",
              "      <th>3</th>\n",
              "      <td>73570559</td>\n",
              "      <td>7053364.0</td>\n",
              "      <td>240043.0</td>\n",
              "      <td>70119.0</td>\n",
              "      <td>Y3</td>\n",
              "      <td>Laboratory</td>\n",
              "      <td>Independent Lab</td>\n",
              "      <td>24</td>\n",
              "      <td>NaN</td>\n",
              "      <td>5- 6 months</td>\n",
              "      <td>METAB3</td>\n",
              "      <td>1-2</td>\n",
              "      <td>SCS</td>\n",
              "      <td>0</td>\n",
              "    </tr>\n",
              "    <tr>\n",
              "      <th>4</th>\n",
              "      <td>11837054</td>\n",
              "      <td>7557061.0</td>\n",
              "      <td>496247.0</td>\n",
              "      <td>68968.0</td>\n",
              "      <td>Y2</td>\n",
              "      <td>Surgery</td>\n",
              "      <td>Outpatient Hospital</td>\n",
              "      <td>27</td>\n",
              "      <td>NaN</td>\n",
              "      <td>4- 5 months</td>\n",
              "      <td>FXDISLC</td>\n",
              "      <td>1-2</td>\n",
              "      <td>EM</td>\n",
              "      <td>0</td>\n",
              "    </tr>\n",
              "  </tbody>\n",
              "</table>\n",
              "</div>"
            ],
            "text/plain": [
              "   MemberID  ProviderID    Vendor  ...  CharlsonIndex ProcedureGroup SupLOS\n",
              "0  42286978   8013252.0  172193.0  ...              0            MED      0\n",
              "1  97903248   3316066.0  726296.0  ...            1-2             EM      0\n",
              "2   2759427   2997752.0  140343.0  ...              0             EM      0\n",
              "3  73570559   7053364.0  240043.0  ...            1-2            SCS      0\n",
              "4  11837054   7557061.0  496247.0  ...            1-2             EM      0\n",
              "\n",
              "[5 rows x 14 columns]"
            ]
          },
          "metadata": {
            "tags": []
          },
          "execution_count": 5
        }
      ]
    },
    {
      "cell_type": "code",
      "metadata": {
        "id": "1-jE2JP97wYC",
        "outputId": "212e2413-bba2-4aa1-b54b-e9cc422da823",
        "colab": {
          "base_uri": "https://localhost:8080/",
          "height": 272
        }
      },
      "source": [
        "df_Claim.dtypes"
      ],
      "execution_count": 47,
      "outputs": [
        {
          "output_type": "execute_result",
          "data": {
            "text/plain": [
              "MemberID                   int64\n",
              "ProviderID               float64\n",
              "Vendor                   float64\n",
              "PCP                      float64\n",
              "Year                      object\n",
              "Specialty                 object\n",
              "PlaceSvc                  object\n",
              "PayDelay                  object\n",
              "LengthOfStay              object\n",
              "DSFS                      object\n",
              "PrimaryConditionGroup     object\n",
              "CharlsonIndex             object\n",
              "ProcedureGroup            object\n",
              "SupLOS                     int64\n",
              "dtype: object"
            ]
          },
          "metadata": {
            "tags": []
          },
          "execution_count": 47
        }
      ]
    },
    {
      "cell_type": "code",
      "metadata": {
        "id": "nfwywPCV73Cr",
        "outputId": "802d398d-b7b4-4c7a-8dfd-0d4499b9403e",
        "colab": {
          "base_uri": "https://localhost:8080/",
          "height": 374
        }
      },
      "source": [
        "df_Claim.info()"
      ],
      "execution_count": 48,
      "outputs": [
        {
          "output_type": "stream",
          "text": [
            "<class 'pandas.core.frame.DataFrame'>\n",
            "RangeIndex: 2668990 entries, 0 to 2668989\n",
            "Data columns (total 14 columns):\n",
            " #   Column                 Dtype  \n",
            "---  ------                 -----  \n",
            " 0   MemberID               int64  \n",
            " 1   ProviderID             float64\n",
            " 2   Vendor                 float64\n",
            " 3   PCP                    float64\n",
            " 4   Year                   object \n",
            " 5   Specialty              object \n",
            " 6   PlaceSvc               object \n",
            " 7   PayDelay               object \n",
            " 8   LengthOfStay           object \n",
            " 9   DSFS                   object \n",
            " 10  PrimaryConditionGroup  object \n",
            " 11  CharlsonIndex          object \n",
            " 12  ProcedureGroup         object \n",
            " 13  SupLOS                 int64  \n",
            "dtypes: float64(3), int64(2), object(9)\n",
            "memory usage: 285.1+ MB\n"
          ],
          "name": "stdout"
        }
      ]
    },
    {
      "cell_type": "code",
      "metadata": {
        "id": "xUPi8Hn077yn",
        "outputId": "4ae2e074-0bbd-484e-ce51-135ca9518e0f",
        "colab": {
          "base_uri": "https://localhost:8080/",
          "height": 297
        }
      },
      "source": [
        "df_Claim.describe()"
      ],
      "execution_count": 50,
      "outputs": [
        {
          "output_type": "execute_result",
          "data": {
            "text/html": [
              "<div>\n",
              "<style scoped>\n",
              "    .dataframe tbody tr th:only-of-type {\n",
              "        vertical-align: middle;\n",
              "    }\n",
              "\n",
              "    .dataframe tbody tr th {\n",
              "        vertical-align: top;\n",
              "    }\n",
              "\n",
              "    .dataframe thead th {\n",
              "        text-align: right;\n",
              "    }\n",
              "</style>\n",
              "<table border=\"1\" class=\"dataframe\">\n",
              "  <thead>\n",
              "    <tr style=\"text-align: right;\">\n",
              "      <th></th>\n",
              "      <th>MemberID</th>\n",
              "      <th>ProviderID</th>\n",
              "      <th>Vendor</th>\n",
              "      <th>PCP</th>\n",
              "      <th>SupLOS</th>\n",
              "    </tr>\n",
              "  </thead>\n",
              "  <tbody>\n",
              "    <tr>\n",
              "      <th>count</th>\n",
              "      <td>2.668990e+06</td>\n",
              "      <td>2.652726e+06</td>\n",
              "      <td>2.644134e+06</td>\n",
              "      <td>2.661498e+06</td>\n",
              "      <td>2.668990e+06</td>\n",
              "    </tr>\n",
              "    <tr>\n",
              "      <th>mean</th>\n",
              "      <td>4.998824e+07</td>\n",
              "      <td>5.070900e+06</td>\n",
              "      <td>3.806974e+05</td>\n",
              "      <td>5.133819e+04</td>\n",
              "      <td>4.245801e-03</td>\n",
              "    </tr>\n",
              "    <tr>\n",
              "      <th>std</th>\n",
              "      <td>2.892240e+07</td>\n",
              "      <td>2.868035e+06</td>\n",
              "      <td>2.729317e+05</td>\n",
              "      <td>2.920591e+04</td>\n",
              "      <td>6.502135e-02</td>\n",
              "    </tr>\n",
              "    <tr>\n",
              "      <th>min</th>\n",
              "      <td>4.000000e+00</td>\n",
              "      <td>4.720000e+02</td>\n",
              "      <td>3.900000e+01</td>\n",
              "      <td>7.400000e+01</td>\n",
              "      <td>0.000000e+00</td>\n",
              "    </tr>\n",
              "    <tr>\n",
              "      <th>25%</th>\n",
              "      <td>2.480119e+07</td>\n",
              "      <td>2.467684e+06</td>\n",
              "      <td>1.526100e+05</td>\n",
              "      <td>2.746700e+04</td>\n",
              "      <td>0.000000e+00</td>\n",
              "    </tr>\n",
              "    <tr>\n",
              "      <th>50%</th>\n",
              "      <td>4.992606e+07</td>\n",
              "      <td>5.442161e+06</td>\n",
              "      <td>2.518090e+05</td>\n",
              "      <td>4.799000e+04</td>\n",
              "      <td>0.000000e+00</td>\n",
              "    </tr>\n",
              "    <tr>\n",
              "      <th>75%</th>\n",
              "      <td>7.532789e+07</td>\n",
              "      <td>7.053364e+06</td>\n",
              "      <td>5.885440e+05</td>\n",
              "      <td>7.587600e+04</td>\n",
              "      <td>0.000000e+00</td>\n",
              "    </tr>\n",
              "    <tr>\n",
              "      <th>max</th>\n",
              "      <td>9.999882e+07</td>\n",
              "      <td>9.999241e+06</td>\n",
              "      <td>9.998740e+05</td>\n",
              "      <td>9.990500e+04</td>\n",
              "      <td>1.000000e+00</td>\n",
              "    </tr>\n",
              "  </tbody>\n",
              "</table>\n",
              "</div>"
            ],
            "text/plain": [
              "           MemberID    ProviderID        Vendor           PCP        SupLOS\n",
              "count  2.668990e+06  2.652726e+06  2.644134e+06  2.661498e+06  2.668990e+06\n",
              "mean   4.998824e+07  5.070900e+06  3.806974e+05  5.133819e+04  4.245801e-03\n",
              "std    2.892240e+07  2.868035e+06  2.729317e+05  2.920591e+04  6.502135e-02\n",
              "min    4.000000e+00  4.720000e+02  3.900000e+01  7.400000e+01  0.000000e+00\n",
              "25%    2.480119e+07  2.467684e+06  1.526100e+05  2.746700e+04  0.000000e+00\n",
              "50%    4.992606e+07  5.442161e+06  2.518090e+05  4.799000e+04  0.000000e+00\n",
              "75%    7.532789e+07  7.053364e+06  5.885440e+05  7.587600e+04  0.000000e+00\n",
              "max    9.999882e+07  9.999241e+06  9.998740e+05  9.990500e+04  1.000000e+00"
            ]
          },
          "metadata": {
            "tags": []
          },
          "execution_count": 50
        }
      ]
    },
    {
      "cell_type": "code",
      "metadata": {
        "id": "dEAsm9XG8VUD",
        "outputId": "7f38bf88-2c28-4422-8c33-9588d883f8fb",
        "colab": {
          "base_uri": "https://localhost:8080/",
          "height": 34
        }
      },
      "source": [
        "list_columns_of_Claims = df_Claim.columns.tolist()\n",
        "type(list_columns_of_Claims) "
      ],
      "execution_count": 53,
      "outputs": [
        {
          "output_type": "execute_result",
          "data": {
            "text/plain": [
              "list"
            ]
          },
          "metadata": {
            "tags": []
          },
          "execution_count": 53
        }
      ]
    },
    {
      "cell_type": "code",
      "metadata": {
        "id": "-JJjKZe28lA2",
        "outputId": "8752b986-2478-43d9-8a3a-3cd74772f6a5",
        "colab": {
          "base_uri": "https://localhost:8080/",
          "height": 1000
        }
      },
      "source": [
        "for col in list_columns_of_Claims:\n",
        "  print(df_Claim[col].value_counts().sort_index())\n",
        "  print(\"----\")"
      ],
      "execution_count": 58,
      "outputs": [
        {
          "output_type": "stream",
          "text": [
            "4            1\n",
            "210         18\n",
            "3197        21\n",
            "3457         1\n",
            "3713        10\n",
            "            ..\n",
            "99996214     1\n",
            "99997485     3\n",
            "99997895    14\n",
            "99998627    10\n",
            "99998824     8\n",
            "Name: MemberID, Length: 113000, dtype: int64\n",
            "----\n",
            "472.0         7\n",
            "1733.0        1\n",
            "1864.0        1\n",
            "2102.0        6\n",
            "3731.0       20\n",
            "             ..\n",
            "9997391.0    10\n",
            "9998428.0     2\n",
            "9998430.0    29\n",
            "9998650.0     1\n",
            "9999241.0     9\n",
            "Name: ProviderID, Length: 14699, dtype: int64\n",
            "----\n",
            "39.0         131\n",
            "295.0         19\n",
            "340.0       1266\n",
            "424.0          9\n",
            "619.0       1477\n",
            "            ... \n",
            "998948.0       3\n",
            "999364.0    1195\n",
            "999462.0     650\n",
            "999829.0      57\n",
            "999874.0     253\n",
            "Name: Vendor, Length: 6387, dtype: int64\n",
            "----\n",
            "74.0         2\n",
            "132.0      101\n",
            "193.0       10\n",
            "395.0       14\n",
            "534.0       47\n",
            "          ... \n",
            "99649.0    564\n",
            "99693.0      3\n",
            "99826.0     48\n",
            "99872.0     67\n",
            "99905.0    104\n",
            "Name: PCP, Length: 1359, dtype: int64\n",
            "----\n",
            "Y1    865689\n",
            "Y2    898872\n",
            "Y3    904429\n",
            "Name: Year, dtype: int64\n",
            "----\n",
            "Anesthesiology                33435\n",
            "Diagnostic Imaging           207297\n",
            "Emergency                    126130\n",
            "General Practice             473655\n",
            "Internal                     672059\n",
            "Laboratory                   653188\n",
            "Obstetrics and Gynecology     36594\n",
            "Other                         92687\n",
            "Pathology                     14907\n",
            "Pediatrics                    84862\n",
            "Rehabilitation                57554\n",
            "Surgery                      208217\n",
            "Name: Specialty, dtype: int64\n",
            "----\n",
            "Ambulance                34766\n",
            "Home                      8303\n",
            "Independent Lab         657750\n",
            "Inpatient Hospital       85776\n",
            "Office                 1542007\n",
            "Other                    11700\n",
            "Outpatient Hospital     121528\n",
            "Urgent Care             199528\n",
            "Name: PlaceSvc, dtype: int64\n",
            "----\n",
            "0      141451\n",
            "1          94\n",
            "10      11883\n",
            "100      4499\n",
            "101      4742\n",
            "        ...  \n",
            "95       3820\n",
            "96       1917\n",
            "97       3087\n",
            "98       5230\n",
            "99       4749\n",
            "Name: PayDelay, Length: 163, dtype: int64\n",
            "----\n",
            "1 day         56696\n",
            "1- 2 weeks     1143\n",
            "2 days         6485\n",
            "2- 4 weeks      961\n",
            "26+ weeks         2\n",
            "3 days         3246\n",
            "4 days         1473\n",
            "4- 8 weeks      903\n",
            "5 days          510\n",
            "6 days          179\n",
            "Name: LengthOfStay, dtype: int64\n",
            "----\n",
            "0- 1 month      707721\n",
            "1- 2 months     247343\n",
            "10-11 months    116328\n",
            "11-12 months     47139\n",
            "2- 3 months     225216\n",
            "3- 4 months     212214\n",
            "4- 5 months     189001\n",
            "5- 6 months     192000\n",
            "6- 7 months     180662\n",
            "7- 8 months     175191\n",
            "8- 9 months     171878\n",
            "9-10 months     151527\n",
            "Name: DSFS, dtype: int64\n",
            "----\n",
            "AMI          34805\n",
            "APPCHOL      17945\n",
            "ARTHSPIN    288285\n",
            "CANCRA        5587\n",
            "CANCRB       42895\n",
            "CANCRM        1096\n",
            "CATAST        2070\n",
            "CHF          13316\n",
            "COPD         44154\n",
            "FLaELEC       5263\n",
            "FXDISLC      40851\n",
            "GIBLEED     101846\n",
            "GIOBSENT      9718\n",
            "GYNEC1       44143\n",
            "GYNECA       12491\n",
            "HEART2       54207\n",
            "HEART4       28733\n",
            "HEMTOL       31631\n",
            "HIPFX         4355\n",
            "INFEC4       83552\n",
            "LIVERDZ       2747\n",
            "METAB1        3863\n",
            "METAB3      320553\n",
            "MISCHRT     131047\n",
            "MISCL1        4892\n",
            "MISCL5       48307\n",
            "MSC2a3      507277\n",
            "NEUMENT     171605\n",
            "ODaBNCA      46732\n",
            "PERINTL        980\n",
            "PERVALV       3518\n",
            "PNCRDZ         912\n",
            "PNEUM        11333\n",
            "PRGNCY       32004\n",
            "RENAL1         602\n",
            "RENAL2       10922\n",
            "RENAL3       52214\n",
            "RESPR4      138062\n",
            "ROAMI        48821\n",
            "SEIZURE      20501\n",
            "SEPSIS         497\n",
            "SKNAUT      107976\n",
            "STROKE        8416\n",
            "TRAUMA       72050\n",
            "UTI          44806\n",
            "Name: PrimaryConditionGroup, dtype: int64\n",
            "----\n",
            "0      1356995\n",
            "1-2    1256527\n",
            "3-4      49479\n",
            "5+        5989\n",
            "Name: CharlsonIndex, dtype: int64\n",
            "----\n",
            "ANES      17061\n",
            "EM      1048210\n",
            "MED      372101\n",
            "PL       492919\n",
            "RAD      265272\n",
            "SAS        5745\n",
            "SCS      274805\n",
            "SDS       60678\n",
            "SEOA       8420\n",
            "SGS        9406\n",
            "SIS       56461\n",
            "SMCD       3376\n",
            "SMS       29177\n",
            "SNS        7796\n",
            "SO          371\n",
            "SRS        7905\n",
            "SUS        5612\n",
            "Name: ProcedureGroup, dtype: int64\n",
            "----\n",
            "0    2657658\n",
            "1      11332\n",
            "Name: SupLOS, dtype: int64\n",
            "----\n"
          ],
          "name": "stdout"
        }
      ]
    },
    {
      "cell_type": "code",
      "metadata": {
        "id": "iK7zFFCL-bSi"
      },
      "source": [
        "#detect missing data\n"
      ],
      "execution_count": null,
      "outputs": []
    },
    {
      "cell_type": "markdown",
      "metadata": {
        "id": "zFd48ZPQicF4"
      },
      "source": [
        "==> kế hoạch phân tích thêm Claim?"
      ]
    },
    {
      "cell_type": "markdown",
      "metadata": {
        "id": "RehTWXwXoY3H"
      },
      "source": [
        "data type: numeric, categorical (nomial / ordinal)"
      ]
    },
    {
      "cell_type": "markdown",
      "metadata": {
        "id": "1bi0baNQOuT6"
      },
      "source": [
        "\n",
        "\n",
        "*   Đếm số Member theo Year\n",
        "\n",
        "\n"
      ]
    },
    {
      "cell_type": "markdown",
      "metadata": {
        "id": "4V9NNJmVuX4x"
      },
      "source": [
        "Loại bỏ biến LengthOfStay do có 80% missing value."
      ]
    },
    {
      "cell_type": "markdown",
      "metadata": {
        "id": "9NgiZvXxu8Bn"
      },
      "source": [
        "ProviderID, Vendor and PCP: do đây là Random Number nên xử lý bằng cách tạo biến Category nhận 2 giá trị: has và N/A."
      ]
    },
    {
      "cell_type": "code",
      "metadata": {
        "id": "Oib_rkGIdwxx",
        "outputId": "62084833-d643-4897-f316-0262222211df",
        "colab": {
          "base_uri": "https://localhost:8080/",
          "height": 204
        }
      },
      "source": [
        "df_Member.head(5)"
      ],
      "execution_count": 6,
      "outputs": [
        {
          "output_type": "execute_result",
          "data": {
            "text/html": [
              "<div>\n",
              "<style scoped>\n",
              "    .dataframe tbody tr th:only-of-type {\n",
              "        vertical-align: middle;\n",
              "    }\n",
              "\n",
              "    .dataframe tbody tr th {\n",
              "        vertical-align: top;\n",
              "    }\n",
              "\n",
              "    .dataframe thead th {\n",
              "        text-align: right;\n",
              "    }\n",
              "</style>\n",
              "<table border=\"1\" class=\"dataframe\">\n",
              "  <thead>\n",
              "    <tr style=\"text-align: right;\">\n",
              "      <th></th>\n",
              "      <th>MemberID</th>\n",
              "      <th>AgeAtFirstClaim</th>\n",
              "      <th>Sex</th>\n",
              "    </tr>\n",
              "  </thead>\n",
              "  <tbody>\n",
              "    <tr>\n",
              "      <th>0</th>\n",
              "      <td>14723353</td>\n",
              "      <td>70-79</td>\n",
              "      <td>M</td>\n",
              "    </tr>\n",
              "    <tr>\n",
              "      <th>1</th>\n",
              "      <td>75706636</td>\n",
              "      <td>70-79</td>\n",
              "      <td>M</td>\n",
              "    </tr>\n",
              "    <tr>\n",
              "      <th>2</th>\n",
              "      <td>17320609</td>\n",
              "      <td>70-79</td>\n",
              "      <td>M</td>\n",
              "    </tr>\n",
              "    <tr>\n",
              "      <th>3</th>\n",
              "      <td>69690888</td>\n",
              "      <td>40-49</td>\n",
              "      <td>M</td>\n",
              "    </tr>\n",
              "    <tr>\n",
              "      <th>4</th>\n",
              "      <td>33004608</td>\n",
              "      <td>0-9</td>\n",
              "      <td>M</td>\n",
              "    </tr>\n",
              "  </tbody>\n",
              "</table>\n",
              "</div>"
            ],
            "text/plain": [
              "   MemberID AgeAtFirstClaim Sex\n",
              "0  14723353           70-79   M\n",
              "1  75706636           70-79   M\n",
              "2  17320609           70-79   M\n",
              "3  69690888           40-49   M\n",
              "4  33004608             0-9   M"
            ]
          },
          "metadata": {
            "tags": []
          },
          "execution_count": 6
        }
      ]
    },
    {
      "cell_type": "markdown",
      "metadata": {
        "id": "yXwxO8S1ocPS"
      },
      "source": [
        "data type: numeric, categorical (nomial / ordinal)"
      ]
    },
    {
      "cell_type": "code",
      "metadata": {
        "id": "J7kBtrkBdywa",
        "outputId": "f9c6dfbe-05f3-4b86-9bc7-e7d568febec2",
        "colab": {
          "base_uri": "https://localhost:8080/",
          "height": 204
        }
      },
      "source": [
        "df_Target.head(5)"
      ],
      "execution_count": 7,
      "outputs": [
        {
          "output_type": "execute_result",
          "data": {
            "text/html": [
              "<div>\n",
              "<style scoped>\n",
              "    .dataframe tbody tr th:only-of-type {\n",
              "        vertical-align: middle;\n",
              "    }\n",
              "\n",
              "    .dataframe tbody tr th {\n",
              "        vertical-align: top;\n",
              "    }\n",
              "\n",
              "    .dataframe thead th {\n",
              "        text-align: right;\n",
              "    }\n",
              "</style>\n",
              "<table border=\"1\" class=\"dataframe\">\n",
              "  <thead>\n",
              "    <tr style=\"text-align: right;\">\n",
              "      <th></th>\n",
              "      <th>MemberID</th>\n",
              "      <th>ClaimsTruncated</th>\n",
              "      <th>DaysInHospital</th>\n",
              "    </tr>\n",
              "  </thead>\n",
              "  <tbody>\n",
              "    <tr>\n",
              "      <th>0</th>\n",
              "      <td>20820036</td>\n",
              "      <td>0</td>\n",
              "      <td>NaN</td>\n",
              "    </tr>\n",
              "    <tr>\n",
              "      <th>1</th>\n",
              "      <td>14625274</td>\n",
              "      <td>1</td>\n",
              "      <td>NaN</td>\n",
              "    </tr>\n",
              "    <tr>\n",
              "      <th>2</th>\n",
              "      <td>99227820</td>\n",
              "      <td>0</td>\n",
              "      <td>NaN</td>\n",
              "    </tr>\n",
              "    <tr>\n",
              "      <th>3</th>\n",
              "      <td>74486714</td>\n",
              "      <td>0</td>\n",
              "      <td>NaN</td>\n",
              "    </tr>\n",
              "    <tr>\n",
              "      <th>4</th>\n",
              "      <td>92341995</td>\n",
              "      <td>0</td>\n",
              "      <td>NaN</td>\n",
              "    </tr>\n",
              "  </tbody>\n",
              "</table>\n",
              "</div>"
            ],
            "text/plain": [
              "   MemberID  ClaimsTruncated  DaysInHospital\n",
              "0  20820036                0             NaN\n",
              "1  14625274                1             NaN\n",
              "2  99227820                0             NaN\n",
              "3  74486714                0             NaN\n",
              "4  92341995                0             NaN"
            ]
          },
          "metadata": {
            "tags": []
          },
          "execution_count": 7
        }
      ]
    },
    {
      "cell_type": "markdown",
      "metadata": {
        "id": "gTMoeATKodCy"
      },
      "source": [
        "data type: numeric, categorical (nomial / ordinal)"
      ]
    },
    {
      "cell_type": "markdown",
      "metadata": {
        "id": "tkEaXwyxKK6Q"
      },
      "source": [
        "# Run Model on cases"
      ]
    },
    {
      "cell_type": "code",
      "metadata": {
        "id": "jN-HVMiOKNuq"
      },
      "source": [
        "# def hàm chạy \n",
        "def run_model(Data = cleaned_data, AlgorithmChoice = 'LogisticRegression'):\n",
        "  X_train, y_train, X_test, y_test = train_test_split(Data)\n",
        "  train\n",
        "  result_summary_coefficient\n",
        "  score"
      ],
      "execution_count": null,
      "outputs": []
    },
    {
      "cell_type": "code",
      "metadata": {
        "id": "muLIvxGHLJY4"
      },
      "source": [
        "#list các case để so sánh\n",
        "\n",
        "data1 = Y + X1\n",
        "data2 = Y + X1, X2\n",
        "data3 = Y + all X\n",
        "data4 = Y + Engineered Xs only"
      ],
      "execution_count": null,
      "outputs": []
    },
    {
      "cell_type": "code",
      "metadata": {
        "id": "Z4ZfdI3ZLbtF"
      },
      "source": [
        "for data in [data1, data2, data3, data4]:\n",
        "  run_model(data)"
      ],
      "execution_count": null,
      "outputs": []
    }
  ]
}